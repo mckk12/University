{
 "cells": [
  {
   "cell_type": "markdown",
   "metadata": {
    "cell_id": "00001-caefeb56-f9c5-4f9e-a096-b89246dc63d7",
    "deepnote_app_coordinates": {
     "h": 5,
     "w": 12,
     "x": 0,
     "y": 6
    },
    "deepnote_cell_type": "markdown",
    "id": "CGXgWugfJ0Vl"
   },
   "source": [
    "## Assignment 1\n",
    "\n",
    "**Submission deadlines:** \n",
    "- get at least **2** points by Tuesday, 11.03.2025\n",
    "- remaining points: last lab session before or on Tuesday, 18.03.2025\n",
    "\n",
    "**Points:** Aim to get 8 out of 14 possible points\n",
    "\n",
    "## Submission instructions\n",
    "The class is held on-site in lab rooms. Please prepare you notebook on your computer or anywhere in the cloud (try using DeepNote or Google Colab).\n",
    "\n",
    "Make sure you know all the questions and answers, and that the notebook contains results; before presentation do `Runtime -> Restart and run all`\n",
    "![Picture title](image-20220302-183151.png)\n",
    "\n",
    "We provide starter code, however you are not required to use it as long as you properly solve the tasks.\n"
   ]
  },
  {
   "cell_type": "markdown",
   "metadata": {
    "cell_id": "00002-c92cc86e-f65f-4e16-9124-9ca4d4265c88",
    "deepnote_app_coordinates": {
     "h": 5,
     "w": 12,
     "x": 0,
     "y": 12
    },
    "deepnote_cell_type": "markdown",
    "id": "5S8iRaCPyO2a"
   },
   "source": [
    "# Task description\n",
    "\n",
    "## TLDR\n",
    "Implement and train a neural network using pure `torch`."
   ]
  },
  {
   "cell_type": "markdown",
   "metadata": {
    "cell_id": "00003-1893a0a0-4515-4960-bce8-37f660543eea",
    "deepnote_app_coordinates": {
     "h": 5,
     "w": 12,
     "x": 0,
     "y": 18
    },
    "deepnote_cell_type": "markdown",
    "id": "JHcz7I2V-bVM"
   },
   "source": [
    "\n",
    "## Problem 1 [2p]\n",
    "Implement a two-layer network, manually set weights and biases to solve the XOR task.\n",
    "\n",
    "A two-layer neural network implementes a function $f: \\mathbb{R}^D \\rightarrow \\mathbb{R}^O$ where $D$ is the input dimensionality and $O$ is the output dinemsionality. The output goes through an intermediate representation (the hidden layer) with dimensionality $H$. \n",
    "\n",
    "The computations are as follows:\n",
    "$$\n",
    "\\begin{aligned}\n",
    "A_1 &= x W_1^T + b_1  & \\qquad\\text{Total input to neurons in the hidden layer (network's first layer)} \\\\\n",
    "O_1 &= \\sigma_1(A_1)  & \\qquad\\text{Output of the hidden layer} \\\\\n",
    "A_2 &= O_1 W_2^T + b_2 & \\qquad\\text{Total input to neurons in the output layer (network's second layer)}\\\\\n",
    "O_2 &= \\sigma_2(A_2)  & \\qquad\\text{Output of the network}\n",
    "\\end{aligned}\n",
    "$$\n",
    "\n",
    "Where $W$ are weight matrices, $b$ are bias vectors, $\\sigma$ are non-linear activation functions (e.g. the logistic sigmoid applied element-wise, or softmax).\n",
    "\n",
    "For the 2D xor problem the network will:\n",
    "- have 2 inputs, 2 hidden neurons, one output\n",
    "- use the logistic sigmoid everywhere (that way we, when hand-designig the weights, we can assume that neurons' outputs are binary).\n",
    "\n",
    "Therrefore the shapes of the data flowing through the network will be:\n",
    "- input: $x\\in\\mathbb{}R^{2}$\n",
    "- hidden layer parameters: $W_1\\in\\mathbb{}R^{2\\times 2}$ and $b_1\\in\\mathbb{}R^{2}$\n",
    "- representations in the hidden layer: $A_1\\in\\mathbb{}R^{2}$ and $O_1\\in\\mathbb{}R^{2}$\n",
    "- output layer parameters: $W_2\\in\\mathbb{}R^{1\\times 2}$ and $b_2\\in\\mathbb{}R^{1}$\n",
    "- representations in the output layer: $A_2\\in\\mathbb{}R^{1}$ and $O_2\\in\\mathbb{}R^{1}$\n",
    "\n",
    "The network can be seen as a logistic regression model, prefixed by a nonlinear transformation of the data.\n",
    "\n",
    "The first tasks consists of:\n",
    "- implementing the network\n",
    "- selecting parametwrs ($W_1, b_1, W_2, b_2$) such that $f(x)\\approx XOR(x_1, x_2)$ where the approximation is die to the sigmoids - the output may be close to 0 or 1, but doesn't need to saturate at 0 or 1.\n",
    "\n",
    "NB: the convention on weight matrix shapes follows linear [layers in PyTorch](https://pytorch.org/docs/stable/generated/torch.nn.Linear.html).\n"
   ]
  },
  {
   "cell_type": "markdown",
   "metadata": {
    "cell_id": "00004-0d502510-cfd1-44da-b88c-da6aaf275617",
    "deepnote_app_coordinates": {
     "h": 5,
     "w": 12,
     "x": 0,
     "y": 24
    },
    "deepnote_cell_type": "markdown",
    "id": "0QSpZxuH-bLe"
   },
   "source": [
    "## Problem 2 [2p]\n",
    "1. Add a backward pass.\n",
    "2. Use a sensible random initialization for weights and biases.\n",
    "3. Numerically check the correctness of your gradient computation.\n",
    "\n",
    "There is nice article about taking derivative over vectors and vector chain rule: https://explained.ai/matrix-calculus/ if someone don't have experience with such calculus.\n"
   ]
  },
  {
   "cell_type": "markdown",
   "metadata": {
    "cell_id": "00005-96083315-f850-4103-946e-cc9b11377543",
    "deepnote_app_coordinates": {
     "h": 5,
     "w": 12,
     "x": 0,
     "y": 30
    },
    "deepnote_cell_type": "markdown",
    "id": "s1Tn8j0m-bAy"
   },
   "source": [
    "## Problem 3 [2p]\n",
    "1. Implement gradient descent\n",
    "2. Train your network to solve 3D XOR\n",
    "3. Try several hidden layer sizes, for each size record the fracton of successful trainings. Then answer:\n",
    "    - What is the minimal hidden size required to solve 3D XOR (even with low reliability, when the training has to be repeated multiple times)\n",
    "    - What is the minimal hidden size required to reliably solve 3D XOR\n",
    "    - Which networks are easier to train - small or large ones? Why?\n"
   ]
  },
  {
   "cell_type": "markdown",
   "metadata": {
    "cell_id": "00006-94cc4eb9-0202-4308-9a9e-007db44a6a98",
    "deepnote_app_coordinates": {
     "h": 5,
     "w": 12,
     "x": 0,
     "y": 36
    },
    "deepnote_cell_type": "markdown",
    "id": "RP9Pvpmf-a2A"
   },
   "source": [
    "## Problem 4 [1p]\n",
    "Replace the first nonlinearity with the [ReLU](https://en.wikipedia.org/wiki/Rectifier_(neural_networks)) activation function. Find a network architecture which reliably learns the 3D XOR problem.\n"
   ]
  },
  {
   "cell_type": "markdown",
   "metadata": {
    "cell_id": "00007-9e6e984c-5131-4333-837b-7e57c4bfb650",
    "deepnote_app_coordinates": {
     "h": 5,
     "w": 12,
     "x": 0,
     "y": 42
    },
    "deepnote_cell_type": "markdown",
    "id": "cGgtpe-w-asB"
   },
   "source": [
    "## Problem 5 [1p]\n",
    "Add a second hidden layer to your network, implement the forward and backward pass, then demonstrate training.\n"
   ]
  },
  {
   "cell_type": "markdown",
   "metadata": {
    "cell_id": "00008-86ea4bdd-83dc-4197-baad-d216fbacc786",
    "deepnote_app_coordinates": {
     "h": 5,
     "w": 12,
     "x": 0,
     "y": 48
    },
    "deepnote_cell_type": "markdown",
    "id": "Pe-pcFeO-aiE"
   },
   "source": [
    "## Problem 6 [2p]\n",
    "Implement a way to have a _variable number_ of hidden layers. Check how deep sigmoid or ReLU networks you  can train. For simplicity you can assume that all hidden layers have the same number of neurons, and use the same activation function.\n"
   ]
  },
  {
   "cell_type": "markdown",
   "metadata": {},
   "source": [
    "## Problem 7 [2p]\n",
    "Consider the following function $\\boldsymbol f: \\mathbb R^n \\to \\mathbb R^k$:\n",
    "$$ \\hat{\\boldsymbol y} := \\boldsymbol f(\\boldsymbol x\\,;\\,\\,W, \\boldsymbol b) = \\mathrm{softmax}(\\boldsymbol z) \\qquad (\\boldsymbol x \\in \\mathbb R^{n}, \\, W \\in\\mathbb R^{k\\times n}, \\, \\boldsymbol b \\in \\mathbb R^k), $$\n",
    "where $$ \\boldsymbol z = W  \\boldsymbol x + \\boldsymbol b $$\n",
    "and $W, \\boldsymbol b$ are the parameters.\n",
    "\n",
    "Analytically derive the form of the following gradients:\n",
    "\n",
    "$$ \\frac{\\partial \\hat{\\boldsymbol y}}{\\boldsymbol z} = \\ldots $$\n",
    "\n",
    "$$ \\frac{\\partial \\hat{\\boldsymbol y}}{W_{ij}} = \\ldots $$\n",
    "\n",
    "$$ \\frac{\\partial \\hat{\\boldsymbol y}}{\\boldsymbol b} = \\ldots $$"
   ]
  },
  {
   "cell_type": "markdown",
   "metadata": {
    "cell_id": "00010-954fd65b-4d81-4bbc-bf6b-4d10d50be9b8",
    "deepnote_app_coordinates": {
     "h": 5,
     "w": 12,
     "x": 0,
     "y": 60
    },
    "deepnote_cell_type": "markdown",
    "id": "rXJaoHSH0DZO"
   },
   "source": [
    "# Solutions and starter code"
   ]
  },
  {
   "cell_type": "code",
   "execution_count": 2,
   "metadata": {
    "ExecuteTime": {
     "end_time": "2024-02-17T11:44:28.263962Z",
     "start_time": "2024-02-17T11:44:27.307173Z"
    },
    "cell_id": "00011-97f2c7fe-a3d5-4a6b-bc12-8a96bfeed475",
    "deepnote_app_coordinates": {
     "h": 5,
     "w": 12,
     "x": 0,
     "y": 66
    },
    "deepnote_cell_type": "code",
    "id": "YiTEWD2oqW0Y"
   },
   "outputs": [],
   "source": [
    "import matplotlib.pyplot as plt\n",
    "import torch"
   ]
  },
  {
   "cell_type": "markdown",
   "metadata": {
    "cell_id": "00012-8bc44e88-e665-483d-89fc-c866879ad335",
    "deepnote_app_coordinates": {
     "h": 5,
     "w": 12,
     "x": 0,
     "y": 72
    },
    "deepnote_cell_type": "markdown",
    "id": "eqtfJKR40J3x"
   },
   "source": [
    "XOR dataset creation"
   ]
  },
  {
   "cell_type": "code",
   "execution_count": 3,
   "metadata": {
    "ExecuteTime": {
     "end_time": "2024-02-17T11:46:08.448211Z",
     "start_time": "2024-02-17T11:46:08.287486Z"
    }
   },
   "outputs": [
    {
     "data": {
      "text/plain": [
       "(-0.05, 1.05, -0.05, 1.05)"
      ]
     },
     "execution_count": 3,
     "metadata": {},
     "output_type": "execute_result"
    },
    {
     "data": {
      "image/png": "[encoded data removed]",
      "text/plain": [
       "<Figure size 640x480 with 1 Axes>"
      ]
     },
     "metadata": {},
     "output_type": "display_data"
    }
   ],
   "source": [
    "# Let's define a XOR dataset\n",
    "\n",
    "# X will be matrix of N 2-dimensional inputs\n",
    "X = torch.tensor([[0, 0], [0, 1], [1, 0], [1, 1],], dtype=torch.float64)\n",
    "# Y is a matrix of N numners - answers\n",
    "Y = torch.tensor([[0], [1], [1], [0],], dtype=torch.float64)\n",
    "\n",
    "plt.scatter(\n",
    "    X[:, 0], X[:, 1], c=Y[:, 0],\n",
    ")\n",
    "plt.xlabel(\"X[0]\")\n",
    "plt.ylabel(\"X[1]\")\n",
    "plt.axis(\"square\")"
   ]
  },
  {
   "cell_type": "markdown",
   "metadata": {
    "cell_id": "00014-fe501b87-4247-497d-a7c7-f528483d31cc",
    "deepnote_app_coordinates": {
     "h": 5,
     "w": 12,
     "x": 0,
     "y": 84
    },
    "deepnote_cell_type": "markdown",
    "id": "Rb3azMn929_I"
   },
   "source": [
    "## Problem 1"
   ]
  },
  {
   "cell_type": "markdown",
   "metadata": {
    "cell_id": "00015-97a3483d-0ae6-4bee-afd5-6226abc622a5",
    "deepnote_app_coordinates": {
     "h": 5,
     "w": 12,
     "x": 0,
     "y": 90
    },
    "deepnote_cell_type": "markdown",
    "id": "RZCM_hdELE04"
   },
   "source": [
    "The code below contains a mock-up of a two-layer neural network. Fill in the code and manually set weights to solve the XOR problem.\n",
    "\n",
    "Please note: the shapes are set to be compatible with PyTorch's conventions:\n",
    "* a batch containing $N$ $D$-dimensional examples has shape $N\\times D$ (each example is a row!)\n",
    "* a weight matrix in a linear layer with $I$ inputs and $O$ outputs has shape $O \\times I$\n",
    "* a bias vector is a 1D vector. Please note that [broadcasting rules](https://docs.scipy.org/doc/numpy/user/basics.broadcasting.html) allow us to think about it as a $1 \\times D$ matrix."
   ]
  },
  {
   "cell_type": "code",
   "execution_count": 4,
   "metadata": {
    "cell_id": "00016-87dd53c6-4f21-4286-8a85-61c2a92fa819",
    "deepnote_app_coordinates": {
     "h": 5,
     "w": 12,
     "x": 0,
     "y": 96
    },
    "deepnote_cell_type": "code",
    "id": "lrrRuk6zLiF0"
   },
   "outputs": [],
   "source": [
    "def sigmoid(x):\n",
    "    return 1 / (1 + torch.exp(-x))\n",
    "\n",
    "\n",
    "class SmallNet:\n",
    "    def __init__(self, in_features: int, num_hidden: int, dtype=torch.float32):\n",
    "        self.W1 = torch.zeros((num_hidden, in_features), dtype=dtype)\n",
    "        self.b1 = torch.zeros((num_hidden,), dtype=dtype)\n",
    "        self.W2 = torch.zeros((1, num_hidden), dtype=dtype)\n",
    "        self.b2 = torch.zeros((1,), dtype=dtype)\n",
    "        self.init_params()\n",
    "\n",
    "    def init_params(self):\n",
    "        # TODO for Problem 2:\n",
    "        # set all parameters to small random values, e.g. from N(0, 0.5)\n",
    "        self.W1 = torch.randn(self.W1.shape, dtype=self.W1.dtype) * torch.tensor(0.5)\n",
    "        self.b1 = torch.randn(self.b1.shape, dtype=self.b1.dtype) * torch.tensor(0.5)\n",
    "        self.W2 = torch.randn(self.W2.shape, dtype=self.W2.dtype) * torch.tensor(0.5)\n",
    "        self.b2 = torch.randn(self.b2.shape, dtype=self.b2.dtype) * torch.tensor(0.5)\n",
    "\n",
    "    def forward(self, X, Y=None, do_backward=False):\n",
    "        # TODO Problem 1: Fill in details of forward propagation\n",
    "\n",
    "        # Input to neurons in 1st layer\n",
    "        A1 = X @ self.W1.T + self.b1\n",
    "        # Outputs after the sigmoid non-linearity\n",
    "        O1 = sigmoid(A1)\n",
    "        # Inputs to neuron in the second layer\n",
    "        A2 = O1 @ self.W2.T + self.b2\n",
    "        # Outputs after the sigmoid non-linearity\n",
    "        O2 = sigmoid(A2)\n",
    "\n",
    "        # When Y is none, simply return the predictions. Else compute the loss\n",
    "        if Y is not None:\n",
    "            loss =  -(Y * torch.log(O2) + (1 - Y) * torch.log(1 - O2)) # TODO cross-entropy loss\n",
    "            # loss2 = torch.nn.BCELoss()(O2, Y)\n",
    "            # print(loss, loss2)\n",
    "            # normalize loss by batch size\n",
    "            loss = loss.sum() / X.shape[0]\n",
    "        else:\n",
    "            loss = torch.nan\n",
    "\n",
    "        if do_backward:\n",
    "            # TODO in Problem 2:\n",
    "            # fill in the gradient computation\n",
    "            # Please note, that there is a correspondance between\n",
    "            # the forward and backward pass: with backward computations happening\n",
    "            # in reverse order.\n",
    "            # We save the gradients with respect to the parameters as fields of self.\n",
    "            # It is not very elegant, but simplifies training code later on.\n",
    "\n",
    "            # A2_grad is the gradient of loss with respect to A2\n",
    "            # Hint: there is a concise formula for the gradient\n",
    "            # of logistic sigmoid and cross-entropy loss\n",
    "            A2_grad = (O2 - Y) / X.shape[0]\n",
    "            self.b2_grad = A2_grad.sum(0)\n",
    "            self.W2_grad = A2_grad.T @ O1\n",
    "            O1_grad = A2_grad @ self.W2\n",
    "            A1_grad = O1_grad * O1 * (1 - O1)\n",
    "            self.b1_grad = A1_grad.sum(0)\n",
    "            self.W1_grad = A1_grad.T @ X\n",
    "\n",
    "        return O2, loss\n",
    "    \n",
    "    def predict(self, X):\n",
    "        return self.forward(X, do_backward=False)[0]"
   ]
  },
  {
   "cell_type": "code",
   "execution_count": 5,
   "metadata": {
    "cell_id": "00017-32ce9293-0a37-4397-aeac-25eef428e8d4",
    "colab": {
     "base_uri": "https://localhost:8080/"
    },
    "deepnote_app_coordinates": {
     "h": 5,
     "w": 12,
     "x": 0,
     "y": 102
    },
    "deepnote_cell_type": "code",
    "id": "jJswvBk0oiIY",
    "outputId": "e6559317-7afa-4509-fbac-4880e73b91cc"
   },
   "outputs": [
    {
     "name": "stdout",
     "output_type": "stream",
     "text": [
      "XORnet(tensor([0., 0.], dtype=torch.float64)) = 0.015192555669562909\n",
      "XORnet(tensor([0., 1.], dtype=torch.float64)) = 0.9921792667053017\n",
      "XORnet(tensor([1., 0.], dtype=torch.float64)) = 0.9921792667053017\n",
      "XORnet(tensor([1., 1.], dtype=torch.float64)) = 0.015271414194180143\n"
     ]
    }
   ],
   "source": [
    "# TODO Problem 1:\n",
    "# Set the weight values to solve the XOR problem\n",
    "\n",
    "net = SmallNet(2, 2, dtype=torch.float64)\n",
    "net.W1 = torch.tensor([[6, 6], [-5, -5]], dtype=torch.float64)\n",
    "net.b1 = torch.tensor([-2.5, 7.5], dtype=torch.float64)\n",
    "net.W2 = torch.tensor([[11, 11]], dtype=torch.float64)\n",
    "net.b2 = torch.tensor([-16], dtype=torch.float64)\n",
    "\n",
    "# Hint: since we use the logistic sigmoid activation, the weights may need to\n",
    "# be fairly large\n",
    "\n",
    "\n",
    "predictions, loss = net.forward(X, Y, do_backward=True)\n",
    "for x, p in zip(X, predictions):\n",
    "    print(f\"XORnet({x}) = {p[0]}\")"
   ]
  },
  {
   "cell_type": "markdown",
   "metadata": {
    "cell_id": "00018-9f8740d2-90e7-4d20-a535-002df8547aba",
    "deepnote_app_coordinates": {
     "h": 5,
     "w": 12,
     "x": 0,
     "y": 108
    },
    "deepnote_cell_type": "markdown",
    "id": "wmxCi5Vl6_xB"
   },
   "source": [
    "## Problem 2"
   ]
  },
  {
   "cell_type": "code",
   "execution_count": 6,
   "metadata": {
    "cell_id": "00019-8f804996-a00a-4bb5-a524-ad056659e023",
    "deepnote_app_coordinates": {
     "h": 5,
     "w": 12,
     "x": 0,
     "y": 114
    },
    "deepnote_cell_type": "code",
    "id": "eSM5hgJ1mrhY"
   },
   "outputs": [],
   "source": [
    "def check_grad(net, param_name, X, Y, eps=1e-5):\n",
    "    \"\"\"A gradient checking routine\"\"\"\n",
    "\n",
    "    param = getattr(net, param_name)\n",
    "    param_flat_accessor = param.reshape(-1)\n",
    "\n",
    "    grad = torch.empty_like(param)\n",
    "    grad_flat_accessor = grad.reshape(-1)\n",
    "\n",
    "    net.forward(X, Y, do_backward=True)\n",
    "    orig_grad = getattr(net, param_name + \"_grad\")\n",
    "    assert param.shape == orig_grad.shape\n",
    "\n",
    "    for i in range(param_flat_accessor.shape[0]):\n",
    "        orig_val = param_flat_accessor[i].item()\n",
    "        param_flat_accessor[i] = orig_val + eps\n",
    "        _, loss_positive = net.forward(X, Y)\n",
    "        param_flat_accessor[i] = orig_val - eps\n",
    "        _, loss_negative = net.forward(X, Y)\n",
    "        param_flat_accessor[i] = orig_val\n",
    "        grad_flat_accessor[i] = (loss_positive - loss_negative) / (2 * eps)\n",
    "    assert torch.allclose(grad, orig_grad)\n",
    "    return grad, orig_grad"
   ]
  },
  {
   "cell_type": "code",
   "execution_count": 7,
   "metadata": {
    "cell_id": "00020-1c4174cf-f129-4cad-adad-4734810a8ce1",
    "deepnote_app_coordinates": {
     "h": 5,
     "w": 12,
     "x": 0,
     "y": 120
    },
    "deepnote_cell_type": "code",
    "id": "TTZu0jFEvgXF"
   },
   "outputs": [],
   "source": [
    "# Hint: use float64 for checking the correctness of the gradient\n",
    "net = SmallNet(2, 2, dtype=torch.float64)\n",
    "\n",
    "for param_name in [\"W1\", \"b1\", \"W2\", \"b2\"]:\n",
    "    check_grad(net, param_name, X, Y)"
   ]
  },
  {
   "cell_type": "markdown",
   "metadata": {
    "cell_id": "00021-145837f8-c83f-4aab-8e62-0114e59f30fe",
    "deepnote_app_coordinates": {
     "h": 5,
     "w": 12,
     "x": 0,
     "y": 126
    },
    "deepnote_cell_type": "markdown",
    "id": "8mUOs3cVvjM2"
   },
   "source": [
    "## Problem 3"
   ]
  },
  {
   "cell_type": "code",
   "execution_count": 8,
   "metadata": {
    "cell_id": "00022-91b3eba0-6025-4839-847c-f5cb275fad07",
    "colab": {
     "base_uri": "https://localhost:8080/"
    },
    "deepnote_app_coordinates": {
     "h": 5,
     "w": 12,
     "x": 0,
     "y": 132
    },
    "deepnote_cell_type": "code",
    "id": "nn2AAoZo0vjU",
    "outputId": "7b6b5a9a-dea5-4357-e8c1-36a34c7c272a"
   },
   "outputs": [
    {
     "name": "stdout",
     "output_type": "stream",
     "text": [
      "after 0 steps \tloss=0.9154525699107978\n",
      "after 5000 steps \tloss=0.6875235652605249\n",
      "after 10000 steps \tloss=0.6670146742490206\n",
      "after 15000 steps \tloss=0.59739627467929\n",
      "after 20000 steps \tloss=0.4452736932321376\n",
      "after 25000 steps \tloss=0.2752860236166601\n",
      "after 30000 steps \tloss=0.16109744537016157\n",
      "after 35000 steps \tloss=0.10122231409791499\n",
      "after 40000 steps \tloss=0.06963917318682765\n",
      "after 45000 steps \tloss=0.05149047140309522\n",
      "after 50000 steps \tloss=0.040136479440810835\n",
      "after 55000 steps \tloss=0.03252521192783699\n",
      "after 60000 steps \tloss=0.027138865948030208\n",
      "after 65000 steps \tloss=0.023161047823723687\n",
      "after 70000 steps \tloss=0.02012178236061163\n",
      "after 75000 steps \tloss=0.01773466778295693\n",
      "after 80000 steps \tloss=0.015816671046175474\n",
      "after 85000 steps \tloss=0.014246052529017735\n",
      "after 90000 steps \tloss=0.012939052778865657\n",
      "after 95000 steps \tloss=0.011836350978688136\n"
     ]
    }
   ],
   "source": [
    "net = SmallNet(2, 10, dtype=torch.float64)\n",
    "\n",
    "alpha = 0.01  # set a learning rate\n",
    "\n",
    "for i in range(100000):\n",
    "    _, loss = net.forward(X, Y, do_backward=True)\n",
    "    if (i % 5000) == 0:\n",
    "        print(f\"after {i} steps \\tloss={loss}\")\n",
    "    for param_name in [\"W1\", \"b1\", \"W2\", \"b2\"]:\n",
    "        param = getattr(net, param_name)\n",
    "        # Hint: use the construct `param[:]` to change the contents of the array!\n",
    "        # Doing instead `param = new_val` simply changes to what the variable\n",
    "        # param points to, without affecting the network!\n",
    "        # alternatively, you could do setattr(net, param_name, new_value)\n",
    "        param[:] = param - alpha * getattr(net, param_name + \"_grad\")"
   ]
  },
  {
   "cell_type": "code",
   "execution_count": 9,
   "metadata": {
    "cell_id": "00023-c92941a8-24d1-46e8-a410-d189c1d87b08",
    "colab": {
     "base_uri": "https://localhost:8080/"
    },
    "deepnote_app_coordinates": {
     "h": 5,
     "w": 12,
     "x": 0,
     "y": 138
    },
    "deepnote_cell_type": "code",
    "id": "TwpEjpkU1JvK",
    "outputId": "dc044de9-81c1-4944-d9a2-5dcc72bf9a57"
   },
   "outputs": [
    {
     "name": "stdout",
     "output_type": "stream",
     "text": [
      "XORnet(tensor([0., 0.], dtype=torch.float64)) = 0.010624872748666444\n",
      "XORnet(tensor([0., 1.], dtype=torch.float64)) = 0.987626617898475\n",
      "XORnet(tensor([1., 0.], dtype=torch.float64)) = 0.9897808813460229\n",
      "XORnet(tensor([1., 1.], dtype=torch.float64)) = 0.010123909506000167\n"
     ]
    }
   ],
   "source": [
    "predictions, loss = net.forward(X, Y, do_backward=True)\n",
    "for x, p in zip(X, predictions):\n",
    "    print(f\"XORnet({x}) = {p[0]}\")"
   ]
  },
  {
   "cell_type": "code",
   "execution_count": 10,
   "metadata": {
    "cell_id": "00024-e09655a3-84e1-4a43-9b61-00edb56c6054",
    "deepnote_app_coordinates": {
     "h": 5,
     "w": 12,
     "x": 0,
     "y": 144
    },
    "deepnote_cell_type": "code",
    "id": "U0ZMyHqz8xrC"
   },
   "outputs": [
    {
     "name": "stdout",
     "output_type": "stream",
     "text": [
      "hidden_dim=2 \tloss=0.3996021087261302\n",
      "hidden_dim=3 \tloss=0.03683514777809006\n",
      "hidden_dim=5 \tloss=0.6845526653974243\n",
      "hidden_dim=10 \tloss=0.03296796298811212\n",
      "hidden_dim=20 \tloss=0.014528663347933776\n",
      "Success rate: tensor(0.8750)\n"
     ]
    }
   ],
   "source": [
    "# TODO:\n",
    "# Generate data for a 3D XOR task\n",
    "# Then estimate the success rate of training the network with diferent\n",
    "# hidden sizes.\n",
    "\n",
    "X3 = torch.tensor([[0, 0, 0], [0, 0, 1], [0, 1, 0], [1, 0, 0], [0, 1, 1], [1, 0, 1], [1, 1, 0], [1,1,1],], dtype=torch.float64)\n",
    "Y3 = torch.tensor([[0], [1], [1], [1], [0], [0], [0], [1],], dtype=torch.float64)\n",
    "\n",
    "success_rate = 0\n",
    "alpha = 0.01\n",
    "for hidden_dim in [2, 3, 5, 10, 20]:\n",
    "    # TODO: run a few trainings and record the fraction of successful ones\n",
    "    net = SmallNet(3, hidden_dim, dtype=torch.float64)\n",
    "    for i in range(100000):\n",
    "        _, loss = net.forward(X3, Y3, do_backward=True)\n",
    "        for param_name in [\"W1\", \"b1\", \"W2\", \"b2\"]:\n",
    "            param = getattr(net, param_name)\n",
    "            param[:] = param - alpha * getattr(net, param_name + \"_grad\")\n",
    "    predictions = net.predict(X3)\n",
    "    success_rate += (predictions.round() == Y3).all(dim=1).float().mean()\n",
    "    # print(success_rate)\n",
    "    print(f\"hidden_dim={hidden_dim} \\tloss={loss}\")\n",
    "print(\"Success rate:\", success_rate / 5)\n",
    "        "
   ]
  },
  {
   "cell_type": "markdown",
   "metadata": {
    "cell_id": "00025-9703bd09-6aae-4830-8221-09b53a623e4b",
    "deepnote_app_coordinates": {
     "h": 5,
     "w": 12,
     "x": 0,
     "y": 150
    },
    "deepnote_cell_type": "markdown",
    "id": "UuaLEoV-9DLG"
   },
   "source": [
    "## Problem 4\n"
   ]
  },
  {
   "cell_type": "code",
   "execution_count": 11,
   "metadata": {
    "cell_id": "00026-1a2be430-91e0-4209-ab3f-9ef84c39513b",
    "deepnote_app_coordinates": {
     "h": 5,
     "w": 12,
     "x": 0,
     "y": 156
    },
    "deepnote_cell_type": "code",
    "id": "w3lk9_TM-MvK"
   },
   "outputs": [],
   "source": [
    "def relu(x):\n",
    "    return torch.maximum(x, torch.tensor(0.0, dtype=x.dtype))\n",
    "\n",
    "\n",
    "class SmallNetReLu:\n",
    "    def __init__(self, in_features: int, num_hidden: int, dtype=torch.float32):\n",
    "        self.W1 = torch.zeros((num_hidden, in_features), dtype=dtype)\n",
    "        self.b1 = torch.zeros((num_hidden,), dtype=dtype)\n",
    "        self.W2 = torch.zeros((1, num_hidden), dtype=dtype)\n",
    "        self.b2 = torch.zeros((1,), dtype=dtype)\n",
    "        self.init_params()\n",
    "        # print(self.W1, self.b1, self.W2, self.b2)\n",
    "\n",
    "    def init_params(self):\n",
    "        self.W1 = torch.randn(self.W1.shape, dtype=self.W1.dtype) * torch.tensor(0.5)\n",
    "        self.b1 = torch.randn(self.b1.shape, dtype=self.b1.dtype) * torch.tensor(0.5)\n",
    "        self.W2 = torch.randn(self.W2.shape, dtype=self.W2.dtype) * torch.tensor(0.5)\n",
    "        self.b2 = torch.randn(self.b2.shape, dtype=self.b2.dtype) * torch.tensor(0.5)\n",
    "\n",
    "    def forward(self, X, Y=None, do_backward=False):\n",
    "        A1 = X @ self.W1.T + self.b1\n",
    "        O1 = relu(A1)\n",
    "        A2 = O1 @ self.W2.T + self.b2\n",
    "        O2 = sigmoid(A2)\n",
    "\n",
    "        if Y is not None:\n",
    "            loss =  -(Y * torch.log(O2) + (1 - Y) * torch.log(1 - O2)) \n",
    "            loss = loss.sum() / X.shape[0]\n",
    "        else:\n",
    "            loss = torch.nan\n",
    "\n",
    "        if do_backward:\n",
    "            A2_grad = (O2 - Y) / X.shape[0]\n",
    "            self.b2_grad = A2_grad.sum(0)\n",
    "            self.W2_grad = A2_grad.T @ O1\n",
    "            O1_grad = A2_grad @ self.W2\n",
    "            A1_grad = O1_grad * (A1 > 0).float()\n",
    "            self.b1_grad = A1_grad.sum(0)\n",
    "            self.W1_grad = A1_grad.T @ X\n",
    "\n",
    "        return O2, loss\n",
    "    \n",
    "    def train(self, X, Y, alpha=0.01, steps=100000):\n",
    "        for i in range(steps):\n",
    "            _, loss = self.forward(X, Y, do_backward=True)\n",
    "            if (i % 5000) == 0:\n",
    "                print(f\"after {i} steps \\tloss={loss}\")\n",
    "            for param_name in [\"W1\", \"b1\", \"W2\", \"b2\"]:\n",
    "                param = getattr(self, param_name)\n",
    "                param[:] = param - alpha * getattr(self, param_name + \"_grad\")\n",
    "                \n",
    "    def predict(self, X):\n",
    "        return self.forward(X, do_backward=False)[0]"
   ]
  },
  {
   "cell_type": "code",
   "execution_count": 12,
   "metadata": {},
   "outputs": [
    {
     "name": "stdout",
     "output_type": "stream",
     "text": [
      "after 0 steps \tloss=0.8847681506730749\n",
      "after 5000 steps \tloss=0.2552081400992924\n",
      "after 10000 steps \tloss=0.0863500815808928\n",
      "after 15000 steps \tloss=0.03883276663817466\n",
      "after 20000 steps \tloss=0.02265241903478142\n",
      "after 25000 steps \tloss=0.015212809654536589\n",
      "after 30000 steps \tloss=0.011114684671690885\n",
      "after 35000 steps \tloss=0.008668715828402868\n",
      "after 40000 steps \tloss=0.00704332454740789\n",
      "after 45000 steps \tloss=0.005889743897517154\n",
      "after 50000 steps \tloss=0.005033959102377126\n",
      "after 55000 steps \tloss=0.004377932223025541\n",
      "after 60000 steps \tloss=0.0038615050398705594\n",
      "after 65000 steps \tloss=0.0034454867996257595\n",
      "after 70000 steps \tloss=0.0031038096982231654\n",
      "after 75000 steps \tloss=0.002818974738179883\n",
      "after 80000 steps \tloss=0.0025781172699983453\n",
      "after 85000 steps \tloss=0.002372262205907722\n",
      "after 90000 steps \tloss=0.0021946683687900865\n",
      "after 95000 steps \tloss=0.0020399589451292324\n",
      "XORnet(tensor([0., 0., 0.], dtype=torch.float64)) = 0.0014233594298346806\n",
      "XORnet(tensor([0., 0., 1.], dtype=torch.float64)) = 0.998656527643229\n",
      "XORnet(tensor([0., 1., 0.], dtype=torch.float64)) = 0.9987065427563877\n",
      "XORnet(tensor([1., 0., 0.], dtype=torch.float64)) = 0.9968210833136494\n",
      "XORnet(tensor([0., 1., 1.], dtype=torch.float64)) = 0.000605353063994381\n",
      "XORnet(tensor([1., 0., 1.], dtype=torch.float64)) = 0.003286394304411045\n",
      "XORnet(tensor([1., 1., 0.], dtype=torch.float64)) = 0.002123450863225494\n",
      "XORnet(tensor([1., 1., 1.], dtype=torch.float64)) = 0.9980402446306207\n"
     ]
    }
   ],
   "source": [
    "X3 = torch.tensor([[0, 0, 0], [0, 0, 1], [0, 1, 0], [1, 0, 0], [0, 1, 1], [1, 0, 1], [1, 1, 0], [1,1,1],], dtype=torch.float64)\n",
    "Y3 = torch.tensor([[0], [1], [1], [1], [0], [0], [0], [1],], dtype=torch.float64)\n",
    "\n",
    "netReLu = SmallNetReLu(3, 18, dtype=torch.float64)\n",
    "netReLu.train(X3, Y3, alpha=0.01)\n",
    "preds = netReLu.predict(X3)\n",
    "for x, p in zip(X3, preds):\n",
    "    print(f\"XORnet({x}) = {p[0]}\")\n"
   ]
  },
  {
   "cell_type": "markdown",
   "metadata": {
    "cell_id": "00027-de8a387d-3b6a-48d5-b6c8-fddf13637e38",
    "deepnote_app_coordinates": {
     "h": 5,
     "w": 12,
     "x": 0,
     "y": 162
    },
    "deepnote_cell_type": "markdown",
    "id": "_Hr_iAKX-ND1"
   },
   "source": [
    "## Problem 5"
   ]
  },
  {
   "cell_type": "code",
   "execution_count": 13,
   "metadata": {
    "cell_id": "00028-0aa6ea62-907d-44bf-9ba4-71870d3dd547",
    "deepnote_app_coordinates": {
     "h": 5,
     "w": 12,
     "x": 0,
     "y": 168
    },
    "deepnote_cell_type": "code",
    "id": "rnz6CndQ-NRI"
   },
   "outputs": [],
   "source": [
    "class SmallNetTwoLayers:\n",
    "    def __init__(self, in_features: int, num_hidden1: int, num_hidden2: int, dtype=torch.float32):\n",
    "        self.W1 = torch.zeros((num_hidden1, in_features), dtype=dtype)\n",
    "        self.b1 = torch.zeros((num_hidden1,), dtype=dtype)\n",
    "        self.W2 = torch.zeros((num_hidden2, num_hidden1), dtype=dtype)\n",
    "        self.b2 = torch.zeros((num_hidden2,), dtype=dtype)\n",
    "        self.W3 = torch.zeros((1, num_hidden2), dtype=dtype)\n",
    "        self.b3 = torch.zeros((1,), dtype=dtype)\n",
    "        self.init_params()\n",
    "\n",
    "    def init_params(self):\n",
    "        self.W1 = torch.randn(self.W1.shape, dtype=self.W1.dtype) * torch.tensor(0.5, dtype=self.W1.dtype)\n",
    "        self.b1 = torch.randn(self.b1.shape, dtype=self.b1.dtype) * torch.tensor(0.5, dtype=self.b1.dtype)\n",
    "        self.W2 = torch.randn(self.W2.shape, dtype=self.W2.dtype) * torch.tensor(0.5, dtype=self.W2.dtype)\n",
    "        self.b2 = torch.randn(self.b2.shape, dtype=self.b2.dtype) * torch.tensor(0.5, dtype=self.b2.dtype)\n",
    "        self.W3 = torch.randn(self.W3.shape, dtype=self.W3.dtype) * torch.tensor(0.5, dtype=self.W3.dtype)\n",
    "        self.b3 = torch.randn(self.b3.shape, dtype=self.b3.dtype) * torch.tensor(0.5, dtype=self.b3.dtype)\n",
    "\n",
    "    def forward(self, X, Y=None, do_backward=False):\n",
    "        A1 = X @ self.W1.T + self.b1\n",
    "        O1 = relu(A1)\n",
    "        A2 = O1 @ self.W2.T + self.b2\n",
    "        O2 = relu(A2)\n",
    "        A3 = O2 @ self.W3.T + self.b3\n",
    "        O3 = sigmoid(A3)\n",
    "\n",
    "        if Y is not None:\n",
    "            loss =  -(Y * torch.log(O3) + (1 - Y) * torch.log(1 - O3)) \n",
    "            loss = loss.sum() / X.shape[0]\n",
    "        else:\n",
    "            loss = torch.nan\n",
    "\n",
    "        if do_backward:\n",
    "            A3_grad = (O3 - Y) / X.shape[0]\n",
    "            self.b3_grad = A3_grad.sum(0)\n",
    "            self.W3_grad = A3_grad.T @ O2\n",
    "            O2_grad = A3_grad @ self.W3\n",
    "            A2_grad = O2_grad * (A2 > 0).float()\n",
    "            self.b2_grad = A2_grad.sum(0)\n",
    "            self.W2_grad = A2_grad.T @ O1\n",
    "            O1_grad = A2_grad @ self.W2\n",
    "            A1_grad = O1_grad * (A1 > 0).float()\n",
    "            self.b1_grad = A1_grad.sum(0)\n",
    "            self.W1_grad = A1_grad.T @ X\n",
    "\n",
    "        return O3, loss\n",
    "    \n",
    "    def train(self, X, Y, alpha=0.01, steps=100000):\n",
    "        for i in range(steps):\n",
    "            _, loss = self.forward(X, Y, do_backward=True)\n",
    "            if (i % 5000) == 0:\n",
    "                print(f\"after {i} steps \\tloss={loss}\")\n",
    "            for param_name in [\"W1\", \"b1\", \"W2\", \"b2\", \"W3\", \"b3\"]:\n",
    "                param = getattr(self, param_name)\n",
    "                param[:] = param[:] - alpha * getattr(self, param_name + \"_grad\")\n",
    "                \n",
    "    def predict(self, X):\n",
    "        return self.forward(X, do_backward=False)[0]"
   ]
  },
  {
   "cell_type": "code",
   "execution_count": 14,
   "metadata": {},
   "outputs": [
    {
     "name": "stdout",
     "output_type": "stream",
     "text": [
      "after 0 steps \tloss=0.8634970858458648\n",
      "after 5000 steps \tloss=0.00045133993910231944\n",
      "after 10000 steps \tloss=0.00018208845651551897\n",
      "after 15000 steps \tloss=0.00010948035472154228\n",
      "after 20000 steps \tloss=7.684731432155761e-05\n",
      "after 25000 steps \tloss=5.859347924692254e-05\n",
      "after 30000 steps \tloss=4.703515267685366e-05\n",
      "after 35000 steps \tloss=3.911042282253968e-05\n",
      "after 40000 steps \tloss=3.335776988014191e-05\n",
      "after 45000 steps \tloss=2.900736376377827e-05\n",
      "after 50000 steps \tloss=2.561100733740205e-05\n",
      "after 55000 steps \tloss=2.288916646809169e-05\n",
      "after 60000 steps \tloss=2.0662930328494573e-05\n",
      "after 65000 steps \tloss=1.8811707942093274e-05\n",
      "after 70000 steps \tloss=1.7248293532117762e-05\n",
      "after 75000 steps \tloss=1.5912200092014812e-05\n",
      "after 80000 steps \tloss=1.4758259707658435e-05\n",
      "after 85000 steps \tloss=1.3752049890349152e-05\n",
      "after 90000 steps \tloss=1.2867503351543237e-05\n",
      "after 95000 steps \tloss=1.208418457702033e-05\n",
      "XORnet(tensor([0., 0., 0.], dtype=torch.float64)) = 8.379871583660614e-06\n",
      "XORnet(tensor([0., 0., 1.], dtype=torch.float64)) = 0.9999921617187396\n",
      "XORnet(tensor([0., 1., 0.], dtype=torch.float64)) = 0.9999790481473037\n",
      "XORnet(tensor([0., 1., 1.], dtype=torch.float64)) = 1.433382267541276e-05\n",
      "XORnet(tensor([1., 0., 0.], dtype=torch.float64)) = 0.999989722040995\n",
      "XORnet(tensor([1., 0., 1.], dtype=torch.float64)) = 2.57496718488473e-06\n",
      "XORnet(tensor([1., 1., 0.], dtype=torch.float64)) = 1.8027857338092133e-05\n",
      "XORnet(tensor([1., 1., 1.], dtype=torch.float64)) = 0.9999912976341088\n"
     ]
    }
   ],
   "source": [
    "X3 = torch.tensor([[0, 0, 0], [0, 0, 1], [0, 1, 0], [0, 1, 1], [1, 0, 0], [1, 0, 1], [1, 1, 0], [1, 1, 1]], dtype=torch.float64)\n",
    "Y3 = torch.tensor([[0], [1], [1], [0], [1], [0], [0], [1]], dtype=torch.float64)\n",
    "\n",
    "net2Layers = SmallNetTwoLayers(3, 10, 10, dtype=torch.float64)\n",
    "net2Layers.train(X3, Y3, alpha=0.1)\n",
    "preds = net2Layers.predict(X3)\n",
    "for x, p in zip(X3, preds):\n",
    "    print(f\"XORnet({x}) = {p[0]}\")"
   ]
  },
  {
   "cell_type": "markdown",
   "metadata": {
    "cell_id": "00029-1de44bc6-5f35-4df3-af9a-408291ccc867",
    "deepnote_app_coordinates": {
     "h": 5,
     "w": 12,
     "x": 0,
     "y": 174
    },
    "deepnote_cell_type": "markdown",
    "id": "4PcNxrCt-NcN"
   },
   "source": [
    "## Problem 6"
   ]
  },
  {
   "cell_type": "code",
   "execution_count": 18,
   "metadata": {
    "cell_id": "00030-fdaced74-34ab-4cfc-8fa2-f3a0b012fbf2",
    "deepnote_app_coordinates": {
     "h": 5,
     "w": 12,
     "x": 0,
     "y": 180
    },
    "deepnote_cell_type": "code",
    "id": "6Brepirl-Nln"
   },
   "outputs": [],
   "source": [
    "class SmallNetMultLayers:\n",
    "    def __init__(self, in_features: int, num_layers: int, num_neurons: int, relu_actv=False, dtype=torch.float32):\n",
    "        self.Ws = [torch.zeros((num_neurons, in_features), dtype=dtype)]\n",
    "        self.bs = [torch.zeros((num_neurons,), dtype=dtype)]\n",
    "        for _ in range(num_layers - 1):\n",
    "            self.Ws.append(torch.zeros((num_neurons, num_neurons), dtype=dtype))\n",
    "            self.bs.append(torch.zeros((num_neurons,), dtype=dtype))\n",
    "        self.Ws.append(torch.zeros((1, num_neurons), dtype=dtype))\n",
    "        self.bs.append(torch.zeros((1,), dtype=dtype))\n",
    "        self.W_grad = [torch.zeros_like(w) for w in self.Ws]\n",
    "        self.b_grad = [torch.zeros_like(b) for b in self.bs]\n",
    "        self.relu_actv = relu_actv\n",
    "        self.init_params()\n",
    "\n",
    "    def init_params(self):\n",
    "        for i in range(len(self.Ws)):\n",
    "            self.Ws[i] = torch.randn(self.Ws[i].shape, dtype=self.Ws[i].dtype) * torch.tensor(0.5, dtype=self.Ws[i].dtype)\n",
    "            self.bs[i] = torch.randn(self.bs[i].shape, dtype=self.bs[i].dtype) * torch.tensor(0.5, dtype=self.bs[i].dtype)\n",
    "        \n",
    "    def forward(self, X, Y=None, do_backward=False):\n",
    "        if self.relu_actv:\n",
    "            actv = relu\n",
    "        else:\n",
    "            actv = sigmoid\n",
    "        As = [X @ self.Ws[0].T + self.bs[0]]\n",
    "        Os = [actv(As[0])]\n",
    "        for i in range(1, len(self.Ws)-1):\n",
    "            temp = Os[-1] @ self.Ws[i].T + self.bs[i]\n",
    "            As.append(temp)\n",
    "            Os.append(actv(temp))\n",
    "        last = Os[-1] @ self.Ws[-1].T + self.bs[-1]\n",
    "        As.append(last)\n",
    "        Os.append(sigmoid(last))\n",
    "\n",
    "\n",
    "        if Y is not None:\n",
    "            loss =  -(Y * torch.log(Os[-1]) + (1 - Y) * torch.log(1 - Os[-1])) \n",
    "            loss = loss.sum() / X.shape[0]\n",
    "        else:\n",
    "            loss = torch.nan\n",
    "\n",
    "        if do_backward:\n",
    "            A_grad = (Os[-1] - Y) / X.shape[0]\n",
    "            self.b_grad[-1] = A_grad.sum(0)\n",
    "            self.W_grad[-1] = A_grad.T @ Os[-2]\n",
    "\n",
    "            for i in range(len(self.Ws) - 2, -1, -1):\n",
    "                O_grad = A_grad @ self.Ws[i+1]\n",
    "                if self.relu_actv:\n",
    "                    A_grad = O_grad * (As[i] > 0).float()\n",
    "                else:\n",
    "                    A_grad = O_grad * Os[i] * (1 - Os[i])\n",
    "                self.b_grad[i] = A_grad.sum(0)\n",
    "                self.W_grad[i] = A_grad.T @ Os[i - 1] if i != 0 else A_grad.T @ X \n",
    "            \n",
    "        return Os[-1], loss\n",
    "    \n",
    "    def train(self, X, Y, alpha=0.01, steps=100000):\n",
    "        for i in range(steps):\n",
    "            _, loss = self.forward(X, Y, do_backward=True)\n",
    "            if (i % 5000) == 0:\n",
    "                print(f\"after {i} steps \\tloss={loss}\")\n",
    "            for param in range(len(self.Ws)):\n",
    "                self.Ws[param] -= alpha * self.W_grad[param]\n",
    "                self.bs[param] -= alpha * self.b_grad[param]\n",
    "                \n",
    "    def predict(self, X):\n",
    "        return self.forward(X, do_backward=False)[0]"
   ]
  },
  {
   "cell_type": "code",
   "execution_count": 19,
   "metadata": {},
   "outputs": [
    {
     "name": "stdout",
     "output_type": "stream",
     "text": [
      "after 0 steps \tloss=1.0115234475878396\n",
      "after 5000 steps \tloss=0.0005834841855132239\n",
      "after 10000 steps \tloss=0.00022512339224902718\n",
      "after 15000 steps \tloss=0.00013301601810690054\n",
      "after 20000 steps \tloss=9.251790688298262e-05\n",
      "after 25000 steps \tloss=7.01246194899951e-05\n",
      "after 30000 steps \tloss=5.6052298911853885e-05\n",
      "after 35000 steps \tloss=4.6453853942964474e-05\n",
      "after 40000 steps \tloss=3.952217784564057e-05\n",
      "after 45000 steps \tloss=3.429896190954314e-05\n",
      "after 50000 steps \tloss=3.023004970514902e-05\n",
      "after 55000 steps \tloss=2.6977444750831218e-05\n",
      "after 60000 steps \tloss=2.4323231504932904e-05\n",
      "after 65000 steps \tloss=2.2117922264500377e-05\n",
      "after 70000 steps \tloss=2.0260039106912694e-05\n",
      "after 75000 steps \tloss=1.8673564308021066e-05\n",
      "after 80000 steps \tloss=1.7304689882825348e-05\n",
      "after 85000 steps \tloss=1.6112334934039797e-05\n",
      "after 90000 steps \tloss=1.506531953557933e-05\n",
      "after 95000 steps \tloss=1.4139048608891795e-05\n",
      "XORnet(tensor([0., 0., 0.], dtype=torch.float64)) = 1.236167383503557e-05\n",
      "XORnet(tensor([0., 0., 1.], dtype=torch.float64)) = 0.9999938720400833\n",
      "XORnet(tensor([0., 1., 0.], dtype=torch.float64)) = 0.9999722419692998\n",
      "XORnet(tensor([0., 1., 1.], dtype=torch.float64)) = 1.2034148807344058e-05\n",
      "XORnet(tensor([1., 0., 0.], dtype=torch.float64)) = 0.9999880248745691\n",
      "XORnet(tensor([1., 0., 1.], dtype=torch.float64)) = 3.843742747408232e-06\n",
      "XORnet(tensor([1., 1., 0.], dtype=torch.float64)) = 2.113510681983796e-05\n",
      "XORnet(tensor([1., 1., 1.], dtype=torch.float64)) = 0.9999887254243357\n"
     ]
    }
   ],
   "source": [
    "X3 = torch.tensor([[0, 0, 0], [0, 0, 1], [0, 1, 0], [0, 1, 1], [1, 0, 0], [1, 0, 1], [1, 1, 0], [1, 1, 1]], dtype=torch.float64)\n",
    "Y3 = torch.tensor([[0], [1], [1], [0], [1], [0], [0], [1]], dtype=torch.float64)\n",
    "\n",
    "customNet = SmallNetMultLayers(3, 2, 10, relu_actv=True, dtype=torch.float64)\n",
    "# early_result = customNet.forward(X3, Y3)\n",
    "# print(early_result)\n",
    "customNet.train(X3, Y3, alpha=0.1)\n",
    "preds = customNet.predict(X3)\n",
    "for x, p in zip(X3, preds):\n",
    "    print(f\"XORnet({x}) = {p[0]}\")"
   ]
  },
  {
   "cell_type": "markdown",
   "metadata": {
    "cell_id": "00031-032edb86-1c56-46e7-8ea3-3e011d72bf5f",
    "deepnote_app_coordinates": {
     "h": 5,
     "w": 12,
     "x": 0,
     "y": 186
    },
    "deepnote_cell_type": "markdown",
    "id": "nWuv7Q77-Nut"
   },
   "source": [
    "## Problem 7"
   ]
  },
  {
   "cell_type": "markdown",
   "metadata": {},
   "source": [
    "Consider the following function $\\boldsymbol f: \\mathbb R^n \\to \\mathbb R^k$:\n",
    "$$ \\hat{\\boldsymbol y} := \\boldsymbol f(\\boldsymbol x\\,;\\,\\,W, \\boldsymbol b) = \\mathrm{softmax}(\\boldsymbol z) \\qquad (\\boldsymbol x \\in \\mathbb R^{n}, \\, W \\in\\mathbb R^{k\\times n}, \\, \\boldsymbol b \\in \\mathbb R^k), $$\n",
    "where $$ \\boldsymbol z = W  \\boldsymbol x + \\boldsymbol b $$\n",
    "and $W, \\boldsymbol b$ are the parameters."
   ]
  },
  {
   "cell_type": "markdown",
   "metadata": {},
   "source": [
    "$$ \\mathrm{softmax}(\\boldsymbol z) = \\frac{e^{z_i}}{\\sum_{j=1}^{K}e^{z_j}}\\quad\n",
    "\n",
    "\\text{where} \\quad\\boldsymbol z = (z_1;...;z_K) $$"
   ]
  },
  {
   "cell_type": "markdown",
   "metadata": {},
   "source": [
    "a)\n",
    "Since the function maps a vector and a specific index $i$ to a real value, the derivative needs to take the index into account:\n",
    "\n",
    "$$ \\frac{\\partial \\hat{\\boldsymbol y}}{\\boldsymbol z} = \\frac{\\partial \\hat{\\boldsymbol y_i}}{\\boldsymbol z_j} $$\n",
    "\n",
    "Let $S=\\sum_{j=1}^{K}e^{z_j}$ for easier calculations.\n",
    "\n",
    "Now, first case $i=j$:\n",
    "\n",
    "$$ \\frac{\\partial \\hat{\\boldsymbol y_i}}{\\boldsymbol z_i} = \\frac{e^{z_i}(S)-e^{z_i}e^{z_i}}{S^2} =  \\hat{\\boldsymbol y_i} - \\hat{\\boldsymbol y_i}^2$$\n",
    "\n",
    "Second, $i\\neq j$:\n",
    "\n",
    "$$ \\frac{\\partial \\hat{\\boldsymbol y_i}}{\\boldsymbol z_j} = \\frac{0 * (S)-e^{z_i}e^{z_j}}{S^2} =  -\\hat{\\boldsymbol y_i} \\hat{\\boldsymbol y_j}$$\n",
    "\n",
    "Using Kronecker's delta:\n",
    "\n",
    "$$ \\frac{\\partial \\hat{\\boldsymbol y_i}}{\\boldsymbol z_j} = \\hat{\\boldsymbol y_i} (\\delta_{ij} - \\hat{\\boldsymbol y_j})$$"
   ]
  },
  {
   "cell_type": "markdown",
   "metadata": {},
   "source": [
    "b)\n",
    "$$ \\frac{\\partial \\hat{\\boldsymbol y}}{W_{ij}} = \\ldots $$\n",
    "\n",
    "Let's first apply the chain rule:\n",
    "$$ \\frac{\\partial \\hat{\\boldsymbol y}}{W_{ij}} = \\frac{\\partial \\hat{\\boldsymbol y}}{\\boldsymbol z} * \\frac{\\partial {\\boldsymbol z}}{W_{ij}} $$\n",
    "\n",
    "We already calculated the first derivative and the second $\\frac{\\partial {\\boldsymbol z}}{W_{ij}}=x$, this gives us:\n",
    "$$\\frac{\\partial \\hat{\\boldsymbol y}}{W_{ij}}=\\hat{\\boldsymbol y_i} (\\delta_{ij} - \\hat{\\boldsymbol y_j}) * x$$\n"
   ]
  },
  {
   "cell_type": "markdown",
   "metadata": {},
   "source": [
    "c)\n",
    "\n",
    "$$ \\frac{\\partial \\hat{\\boldsymbol y}}{\\boldsymbol b} = \\ldots $$\n",
    "\n",
    "Similary to $b)$:\n",
    "\n",
    "$$ \\frac{\\partial \\hat{\\boldsymbol y}}{\\boldsymbol b} = \\frac{\\partial \\hat{\\boldsymbol y}}{\\boldsymbol z_i} * \\frac{\\partial {\\boldsymbol z_i}}{\\boldsymbol b} $$\n",
    "\n",
    "Then $\\frac{\\partial {\\boldsymbol z_i}}{\\boldsymbol b}$ easly computes to $1$, giving:\n",
    "\n",
    "$$ \\frac{\\partial \\hat{\\boldsymbol y}}{\\boldsymbol b} = \\hat{\\boldsymbol y_i} (\\delta_{ij} - \\hat{\\boldsymbol y_j})$$\n"
   ]
  }
 ],
 "metadata": {
  "colab": {
   "collapsed_sections": [],
   "include_colab_link": true,
   "name": "Assignment1.ipynb",
   "provenance": []
  },
  "deepnote": {},
  "deepnote_app_layout": "article",
  "deepnote_execution_queue": [],
  "deepnote_notebook_id": "1f038069-bae5-44e5-92ba-67bdff2c54a6",
  "kernelspec": {
   "display_name": "Python 3",
   "language": "python",
   "name": "python3"
  },
  "language_info": {
   "codemirror_mode": {
    "name": "ipython",
    "version": 3
   },
   "file_extension": ".py",
   "mimetype": "text/x-python",
   "name": "python",
   "nbconvert_exporter": "python",
   "pygments_lexer": "ipython3",
   "version": "3.10.11"
  }
 },
 "nbformat": 4,
 "nbformat_minor": 1
}
